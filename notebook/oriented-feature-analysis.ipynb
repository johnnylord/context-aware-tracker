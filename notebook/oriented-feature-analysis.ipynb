{
 "cells": [
  {
   "cell_type": "code",
   "execution_count": 1,
   "id": "geological-truth",
   "metadata": {},
   "outputs": [],
   "source": [
    "import os\n",
    "import os.path as osp\n",
    "import sys\n",
    "sys.path.insert(0, osp.dirname(osp.abspath(\".\")))"
   ]
  },
  {
   "cell_type": "code",
   "execution_count": 2,
   "id": "built-manhattan",
   "metadata": {},
   "outputs": [],
   "source": [
    "from sklearn.decomposition import PCA\n",
    "from sklearn.manifold import TSNE\n",
    "\n",
    "import numpy as np\n",
    "import matplotlib.pyplot as plt\n",
    "%matplotlib inline\n",
    "\n",
    "import pickle"
   ]
  },
  {
   "cell_type": "code",
   "execution_count": 3,
   "id": "norman-cooler",
   "metadata": {},
   "outputs": [],
   "source": [
    "# HYPERPARAMETER\n",
    "RESULT_DIR = \"../result/3p_sa_um_pp.msv/\""
   ]
  },
  {
   "cell_type": "code",
   "execution_count": 4,
   "id": "alive-threat",
   "metadata": {},
   "outputs": [],
   "source": [
    "# PREDS SAVE MOT2D RESULT AS DICT, WITH KEY INDICATING FRAME ID, VALUE INDICATE TRACKED OBJECT (TID, BBOX)\n",
    "preds = {}\n",
    "with open(osp.join(RESULT_DIR, 'pred.txt'), 'r') as f:\n",
    "    lines = [ line for line in f.read().split('\\n') if len(line) > 0 ]\n",
    "    for line in lines:\n",
    "        fields = [ f for f in line.split(\",\") if len(f) > 0 ]\n",
    "        fid = int(fields[0])\n",
    "        tid = fields[1]\n",
    "        bbox = np.array([ float(v) for v in fields[2:2+4] ])\n",
    "        bbox[2] = bbox[0] + bbox[2]\n",
    "        bbox[3] = bbox[1] + bbox[3]\n",
    "        if fid not in preds:\n",
    "            preds[fid] = []\n",
    "        preds[fid].append((tid, bbox))"
   ]
  },
  {
   "cell_type": "code",
   "execution_count": 5,
   "id": "italic-times",
   "metadata": {},
   "outputs": [],
   "source": [
    "# SNAPSHOTS IS A LIST OF SNAPSHOT, A SNAPSHOT RECORDS FEATURE REPRESENTATION ON EACH TRACK\n",
    "with open(osp.join(RESULT_DIR, 'snapshots_pools.pkl'), 'rb') as f:\n",
    "    snapshots_pools = pickle.load(f)"
   ]
  },
  {
   "cell_type": "code",
   "execution_count": 6,
   "id": "multiple-antenna",
   "metadata": {},
   "outputs": [],
   "source": [
    "# WHICH TRACKS I WANT TO AGGREGATE ALL THE FEATURES\n",
    "# 0 -> benny\n",
    "# 1 -> hunyan\n",
    "# 2 -> shijun\n",
    "TARGET_TRACKS = [1]"
   ]
  },
  {
   "cell_type": "code",
   "execution_count": 7,
   "id": "intellectual-service",
   "metadata": {},
   "outputs": [],
   "source": [
    "# AGGREGATE TARGET FEATURES TOGETHER\n",
    "feature_pools = {}\n",
    "\n",
    "for idx, snapshot_pools in enumerate(snapshots_pools):\n",
    "    if idx > 560:\n",
    "        continue\n",
    "    for tid, pools in snapshot_pools.items():\n",
    "        if tid in TARGET_TRACKS:\n",
    "            for k, v in pools.items():\n",
    "                if k not in feature_pools:\n",
    "                    feature_pools[k] = []\n",
    "                feature_pools[k].append(np.array(v).mean(axis=0).reshape(-1))\n",
    "                \n",
    "for k in feature_pools.keys():\n",
    "    feature_pools[k] = np.array(feature_pools[k])"
   ]
  },
  {
   "cell_type": "code",
   "execution_count": 8,
   "id": "acceptable-textbook",
   "metadata": {},
   "outputs": [],
   "source": [
    "N_SAMPLES = 400\n",
    "\n",
    "sub_pools = {}\n",
    "for k, v in feature_pools.items():\n",
    "    indices = np.random.choice(np.arange(len(v)), N_SAMPLES, replace=False)\n",
    "    sub_pools[k] = v[indices]\n",
    "    \n",
    "all_features = np.concatenate([ features for features in sub_pools.values() ])"
   ]
  },
  {
   "cell_type": "code",
   "execution_count": 9,
   "id": "transsexual-spending",
   "metadata": {},
   "outputs": [],
   "source": [
    "# Visualization\n",
    "pca = PCA(n_components=64)\n",
    "reduced = pca.fit_transform(all_features)\n",
    "\n",
    "tsne = TSNE(n_components=2, perplexity=15, n_iter=1000)\n",
    "reduced = tsne.fit_transform(reduced)"
   ]
  },
  {
   "cell_type": "code",
   "execution_count": 10,
   "id": "preceding-jaguar",
   "metadata": {
    "scrolled": true
   },
   "outputs": [
    {
     "data": {
      "image/png": "[encoded data removed]",
      "text/plain": [
       "<Figure size 576x288 with 1 Axes>"
      ]
     },
     "metadata": {
      "needs_background": "light"
     },
     "output_type": "display_data"
    }
   ],
   "source": [
    "plt.figure(figsize=(8, 4))\n",
    "\n",
    "for i in range(4):\n",
    "    start = i*N_SAMPLES\n",
    "    end = i*N_SAMPLES + N_SAMPLES\n",
    "    if i == 0:\n",
    "        text = \"FRONT\"\n",
    "    elif i == 1:\n",
    "        text = \"Right\"\n",
    "    elif i == 2:\n",
    "        text = \"BACK\"\n",
    "    else:\n",
    "        text = \"LEFT\"\n",
    "    x = np.mean(reduced[start:end, 0])\n",
    "    y = np.mean(reduced[start:end, 1])\n",
    "    text_params = {'ha': 'center', 'va': 'center', 'color': 'white', 'fontsize': 12, 'fontweight': 'bold'}\n",
    "    plt.text(x, y, text, bbox=dict(facecolor='black', alpha=0.3), **text_params)\n",
    "    plt.scatter(reduced[start:end, 0], reduced[start:end, 1], s=20, alpha=0.5)\n",
    "\n",
    "plt.axis('off')\n",
    "plt.tight_layout()"
   ]
  }
 ],
 "metadata": {
  "kernelspec": {
   "display_name": "Python 3",
   "language": "python",
   "name": "python3"
  },
  "language_info": {
   "codemirror_mode": {
    "name": "ipython",
    "version": 3
   },
   "file_extension": ".py",
   "mimetype": "text/x-python",
   "name": "python",
   "nbconvert_exporter": "python",
   "pygments_lexer": "ipython3",
   "version": "3.7.1"
  }
 },
 "nbformat": 4,
 "nbformat_minor": 5
}
