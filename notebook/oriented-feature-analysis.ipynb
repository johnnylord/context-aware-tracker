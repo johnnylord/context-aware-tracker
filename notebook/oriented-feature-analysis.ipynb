{
 "cells": [
  {
   "cell_type": "code",
   "execution_count": 1,
   "id": "geological-truth",
   "metadata": {},
   "outputs": [],
   "source": [
    "import os\n",
    "import os.path as osp\n",
    "import sys\n",
    "sys.path.insert(0, osp.dirname(osp.abspath(\".\")))"
   ]
  },
  {
   "cell_type": "code",
   "execution_count": 2,
   "id": "built-manhattan",
   "metadata": {},
   "outputs": [],
   "source": [
    "from sklearn.decomposition import PCA\n",
    "from sklearn.manifold import TSNE\n",
    "\n",
    "import numpy as np\n",
    "import matplotlib.pyplot as plt\n",
    "%matplotlib inline\n",
    "\n",
    "import pickle"
   ]
  },
  {
   "cell_type": "code",
   "execution_count": 3,
   "id": "norman-cooler",
   "metadata": {},
   "outputs": [],
   "source": [
    "# HYPERPARAMETER\n",
    "RESULT_DIR = \"../run/depthsort_orient/5p_sa_pm_up.msv/\""
   ]
  },
  {
   "cell_type": "code",
   "execution_count": 4,
   "id": "alive-threat",
   "metadata": {},
   "outputs": [],
   "source": [
    "# PREDS SAVE MOT2D RESULT AS DICT, WITH KEY INDICATING FRAME ID, VALUE INDICATE TRACKED OBJECT (TID, BBOX)\n",
    "preds = {}\n",
    "with open(osp.join(RESULT_DIR, 'pred.txt'), 'r') as f:\n",
    "    lines = [ line for line in f.read().split('\\n') if len(line) > 0 ]\n",
    "    for line in lines:\n",
    "        fields = [ f for f in line.split(\",\") if len(f) > 0 ]\n",
    "        fid = int(fields[0])\n",
    "        tid = fields[1]\n",
    "        bbox = np.array([ float(v) for v in fields[2:2+4] ])\n",
    "        bbox[2] = bbox[0] + bbox[2]\n",
    "        bbox[3] = bbox[1] + bbox[3]\n",
    "        if fid not in preds:\n",
    "            preds[fid] = []\n",
    "        preds[fid].append((tid, bbox))"
   ]
  },
  {
   "cell_type": "code",
   "execution_count": 5,
   "id": "italic-times",
   "metadata": {},
   "outputs": [],
   "source": [
    "# SNAPSHOTS IS A LIST OF SNAPSHOT, A SNAPSHOT RECORDS FEATURE REPRESENTATION ON EACH TRACK\n",
    "with open(osp.join(RESULT_DIR, 'snapshots_pools.pkl'), 'rb') as f:\n",
    "    snapshots_pools = pickle.load(f)"
   ]
  },
  {
   "cell_type": "code",
   "execution_count": 6,
   "id": "multiple-antenna",
   "metadata": {},
   "outputs": [],
   "source": [
    "# WHICH TRACKS I WANT TO AGGREGATE ALL THE FEATURES\n",
    "TARGET_TRACKS = [6]"
   ]
  },
  {
   "cell_type": "code",
   "execution_count": 7,
   "id": "intellectual-service",
   "metadata": {},
   "outputs": [],
   "source": [
    "# AGGREGATE TARGET FEATURES TOGETHER\n",
    "feature_pools = {}\n",
    "\n",
    "for snapshot_pools in snapshots_pools:\n",
    "    for tid, pools in snapshot_pools.items():\n",
    "        if tid in TARGET_TRACKS:\n",
    "            for k, v in pools.items():\n",
    "                if k not in feature_pools:\n",
    "                    feature_pools[k] = []\n",
    "                feature_pools[k].append(np.array(v).mean(axis=0).reshape(-1))\n",
    "                \n",
    "for k in feature_pools.keys():\n",
    "    feature_pools[k] = np.array(feature_pools[k])"
   ]
  },
  {
   "cell_type": "code",
   "execution_count": 8,
   "id": "acceptable-textbook",
   "metadata": {},
   "outputs": [],
   "source": [
    "N_SAMPLES = 500\n",
    "\n",
    "sub_pools = {}\n",
    "for k, v in feature_pools.items():\n",
    "    indices = np.random.choice(np.arange(len(v)), N_SAMPLES, replace=False)\n",
    "    sub_pools[k] = v[indices]\n",
    "    \n",
    "all_features = np.concatenate([ features for features in sub_pools.values() ])"
   ]
  },
  {
   "cell_type": "code",
   "execution_count": 9,
   "id": "bound-wales",
   "metadata": {},
   "outputs": [
    {
     "data": {
      "text/plain": [
       "(2000, 128)"
      ]
     },
     "execution_count": 9,
     "metadata": {},
     "output_type": "execute_result"
    }
   ],
   "source": [
    "all_features.shape"
   ]
  },
  {
   "cell_type": "code",
   "execution_count": 10,
   "id": "transsexual-spending",
   "metadata": {},
   "outputs": [],
   "source": [
    "# Visualization\n",
    "pca = PCA(n_components=64)\n",
    "reduced = pca.fit_transform(all_features)\n",
    "\n",
    "tsne = TSNE(n_components=2)\n",
    "reduced = tsne.fit_transform(reduced)"
   ]
  },
  {
   "cell_type": "code",
   "execution_count": 11,
   "id": "preceding-jaguar",
   "metadata": {
    "scrolled": false
   },
   "outputs": [
    {
     "data": {
      "image/png": "[encoded data removed]",
      "text/plain": [
       "<Figure size 1152x576 with 1 Axes>"
      ]
     },
     "metadata": {
      "needs_background": "light"
     },
     "output_type": "display_data"
    }
   ],
   "source": [
    "plt.figure(figsize=(16, 8))\n",
    "\n",
    "for i in range(4):\n",
    "    start = i*N_SAMPLES\n",
    "    end = i*N_SAMPLES + N_SAMPLES\n",
    "    plt.scatter(reduced[start:end, 0], reduced[start:end, 1], s=50)"
   ]
  },
  {
   "cell_type": "markdown",
   "id": "focal-highland",
   "metadata": {},
   "source": [
    "## Conclusion\n",
    "\n",
    "From the feature distribution shown above, the feature representatino of a track"
   ]
  }
 ],
 "metadata": {
  "kernelspec": {
   "display_name": "Python 3",
   "language": "python",
   "name": "python3"
  },
  "language_info": {
   "codemirror_mode": {
    "name": "ipython",
    "version": 3
   },
   "file_extension": ".py",
   "mimetype": "text/x-python",
   "name": "python",
   "nbconvert_exporter": "python",
   "pygments_lexer": "ipython3",
   "version": "3.7.1"
  }
 },
 "nbformat": 4,
 "nbformat_minor": 5
}
