{
 "cells": [
  {
   "cell_type": "code",
   "execution_count": 1,
   "id": "geological-truth",
   "metadata": {},
   "outputs": [],
   "source": [
    "import os\n",
    "import os.path as osp\n",
    "import sys\n",
    "sys.path.insert(0, osp.dirname(osp.abspath(\".\")))"
   ]
  },
  {
   "cell_type": "code",
   "execution_count": 2,
   "id": "built-manhattan",
   "metadata": {},
   "outputs": [],
   "source": [
    "from sklearn.decomposition import PCA\n",
    "from sklearn.manifold import TSNE\n",
    "\n",
    "import numpy as np\n",
    "import matplotlib.pyplot as plt\n",
    "%matplotlib inline\n",
    "\n",
    "import pickle"
   ]
  },
  {
   "cell_type": "code",
   "execution_count": 3,
   "id": "norman-cooler",
   "metadata": {},
   "outputs": [],
   "source": [
    "# HYPERPARAMETER\n",
    "RESULT_DIR = \"../result/CAT/3p_da_pm_pp.msv/\"\n",
    "# RESULT_DIR = \"../result/CAT/3p_sa_pm_pp.msv/\""
   ]
  },
  {
   "cell_type": "code",
   "execution_count": 4,
   "id": "alive-threat",
   "metadata": {},
   "outputs": [],
   "source": [
    "# PREDS SAVE MOT2D RESULT AS DICT, WITH KEY INDICATING FRAME ID, VALUE INDICATE TRACKED OBJECT (TID, BBOX)\n",
    "preds = {}\n",
    "with open(osp.join(RESULT_DIR, 'pred.txt'), 'r') as f:\n",
    "    lines = [ line for line in f.read().split('\\n') if len(line) > 0 ]\n",
    "    for line in lines:\n",
    "        fields = [ f for f in line.split(\",\") if len(f) > 0 ]\n",
    "        fid = int(fields[0])\n",
    "        tid = fields[1]\n",
    "        bbox = np.array([ float(v) for v in fields[2:2+4] ])\n",
    "        bbox[2] = bbox[0] + bbox[2]\n",
    "        bbox[3] = bbox[1] + bbox[3]\n",
    "        if fid not in preds:\n",
    "            preds[fid] = []\n",
    "        preds[fid].append((tid, bbox))"
   ]
  },
  {
   "cell_type": "code",
   "execution_count": 5,
   "id": "italic-times",
   "metadata": {},
   "outputs": [],
   "source": [
    "# SNAPSHOTS IS A LIST OF SNAPSHOT, A SNAPSHOT RECORDS FEATURE REPRESENTATION ON EACH TRACK\n",
    "with open(osp.join(RESULT_DIR, 'snapshots_pools.pkl'), 'rb') as f:\n",
    "    snapshots_pools = pickle.load(f)"
   ]
  },
  {
   "cell_type": "code",
   "execution_count": 6,
   "id": "earlier-trial",
   "metadata": {},
   "outputs": [
    {
     "name": "stdout",
     "output_type": "stream",
     "text": [
      "IDs: {0, 1, 3}\n"
     ]
    }
   ],
   "source": [
    "unique_ids = []\n",
    "for snapshots in snapshots_pools:\n",
    "    ids = list(snapshots.keys())\n",
    "    unique_ids += ids\n",
    "\n",
    "print(\"IDs:\", set(unique_ids))"
   ]
  },
  {
   "cell_type": "code",
   "execution_count": 7,
   "id": "multiple-antenna",
   "metadata": {},
   "outputs": [],
   "source": [
    "# WHICH TRACKS I WANT TO AGGREGATE ALL THE FEATURES\n",
    "# 0 -> benny\n",
    "# 1 -> hunyan\n",
    "# 2 -> shijun\n",
    "TARGET_TRACKS = list(set(unique_ids))#[:-1]"
   ]
  },
  {
   "cell_type": "code",
   "execution_count": 8,
   "id": "intellectual-service",
   "metadata": {},
   "outputs": [],
   "source": [
    "# AGGREGATE TARGET FEATURES TOGETHER\n",
    "target_feature_pools = {}\n",
    "\n",
    "for idx, snapshot_pools in enumerate(snapshots_pools):\n",
    "    for tid, pools in snapshot_pools.items():\n",
    "        if tid in TARGET_TRACKS:\n",
    "            if tid == 8:\n",
    "                tid = 5\n",
    "            if tid not in target_feature_pools:\n",
    "                target_feature_pools[tid] = {}\n",
    "            for k, v in pools.items():\n",
    "                if k not in target_feature_pools[tid]:\n",
    "                    target_feature_pools[tid][k] = []\n",
    "                target_feature_pools[tid][k].append(np.array(v).mean(axis=0).reshape(-1))\n",
    "                \n",
    "for tid in target_feature_pools.keys():\n",
    "    for k, v in target_feature_pools[tid].items():\n",
    "        target_feature_pools[tid][k] = np.array(v)"
   ]
  },
  {
   "cell_type": "code",
   "execution_count": 9,
   "id": "acceptable-textbook",
   "metadata": {},
   "outputs": [],
   "source": [
    "N_SAMPLES = 100\n",
    "\n",
    "target_sub_pools = {}\n",
    "for tid, feature_pools in target_feature_pools.items():\n",
    "    if tid not in target_sub_pools:\n",
    "        target_sub_pools[tid] = {}\n",
    "    for k, features in feature_pools.items():\n",
    "        indices = np.random.choice(np.arange(len(features)), N_SAMPLES, replace=False)\n",
    "        target_sub_pools[tid][k] = features[indices]\n",
    "    \n",
    "all_features = []\n",
    "for tid, sub_pools in target_sub_pools.items():\n",
    "    buffer = []\n",
    "    for i in range(4):\n",
    "        buffer.append(sub_pools[i])\n",
    "    all_features.append(np.concatenate(buffer).tolist())\n",
    "all_features = np.array(all_features)"
   ]
  },
  {
   "cell_type": "code",
   "execution_count": 10,
   "id": "distant-religion",
   "metadata": {},
   "outputs": [],
   "source": [
    "data = all_features.reshape(-1, 128)"
   ]
  },
  {
   "cell_type": "code",
   "execution_count": 11,
   "id": "transsexual-spending",
   "metadata": {},
   "outputs": [],
   "source": [
    "# Visualization\n",
    "pca = PCA(n_components=64)\n",
    "reduced = pca.fit_transform(data)\n",
    "\n",
    "tsne = TSNE(n_components=2, perplexity=30, n_iter=1000)\n",
    "reduced = tsne.fit_transform(reduced)"
   ]
  },
  {
   "cell_type": "code",
   "execution_count": 12,
   "id": "israeli-accordance",
   "metadata": {},
   "outputs": [
    {
     "data": {
      "text/plain": [
       "(1200, 2)"
      ]
     },
     "execution_count": 12,
     "metadata": {},
     "output_type": "execute_result"
    }
   ],
   "source": [
    "reduced.shape"
   ]
  },
  {
   "cell_type": "code",
   "execution_count": 13,
   "id": "discrete-poland",
   "metadata": {},
   "outputs": [
    {
     "name": "stdout",
     "output_type": "stream",
     "text": [
      "(3, 400, 2)\n"
     ]
    }
   ],
   "source": [
    "target_reduced = reduced.reshape(3, 4*N_SAMPLES, 2)\n",
    "print(target_reduced.shape)"
   ]
  },
  {
   "cell_type": "code",
   "execution_count": 14,
   "id": "horizontal-cursor",
   "metadata": {
    "scrolled": false
   },
   "outputs": [
    {
     "data": {
      "image/png": "[encoded data removed]",
      "text/plain": [
       "<Figure size 1152x576 with 1 Axes>"
      ]
     },
     "metadata": {
      "needs_background": "light"
     },
     "output_type": "display_data"
    }
   ],
   "source": [
    "plt.figure(figsize=(16, 8))\n",
    "\n",
    "for tid in range(3):\n",
    "    features = target_reduced[tid]\n",
    "    if tid == 0:\n",
    "        color = 'red'\n",
    "    elif tid == 1:\n",
    "        color = 'blue'\n",
    "    elif tid == 2:\n",
    "        color = 'green'\n",
    "        \n",
    "    for i in range(4):\n",
    "        start = i*N_SAMPLES\n",
    "        end = i*N_SAMPLES + N_SAMPLES\n",
    "        if i == 0:\n",
    "            text = \"FRONT\"\n",
    "            tcolor = \"orange\"\n",
    "        elif i == 1:\n",
    "            text = \"Right\"\n",
    "            tcolor = \"purple\"\n",
    "        elif i == 2:\n",
    "            text = \"BACK\"\n",
    "            tcolor = \"black\"\n",
    "        else:\n",
    "            text = \"LEFT\"\n",
    "            tcolor = \"navy\"\n",
    "        x = np.mean(features[start:end, 0])\n",
    "        y = np.mean(features[start:end, 1]) - 5\n",
    "        text_params = {'ha': 'center', 'va': 'center', 'color': tcolor, 'fontsize': 20, 'fontweight': 'bold'}\n",
    "        plt.text(x, y, text, bbox=dict(facecolor='black', alpha=0.1), **text_params)\n",
    "        plt.scatter(features[start:end, 0], features[start:end, 1], s=100, alpha=0.5, color=color)\n",
    "        \n",
    "plt.axis('off')\n",
    "plt.tight_layout()"
   ]
  },
  {
   "cell_type": "code",
   "execution_count": null,
   "id": "discrete-connection",
   "metadata": {},
   "outputs": [],
   "source": []
  }
 ],
 "metadata": {
  "kernelspec": {
   "display_name": "Python 3",
   "language": "python",
   "name": "python3"
  },
  "language_info": {
   "codemirror_mode": {
    "name": "ipython",
    "version": 3
   },
   "file_extension": ".py",
   "mimetype": "text/x-python",
   "name": "python",
   "nbconvert_exporter": "python",
   "pygments_lexer": "ipython3",
   "version": "3.7.1"
  }
 },
 "nbformat": 4,
 "nbformat_minor": 5
}
